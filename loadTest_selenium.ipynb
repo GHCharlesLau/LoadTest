{
 "cells": [
  {
   "cell_type": "markdown",
   "id": "abbff83d",
   "metadata": {},
   "source": [
    "# Performing load test with selenium"
   ]
  },
  {
   "cell_type": "code",
   "execution_count": 71,
   "id": "1c7c672e",
   "metadata": {},
   "outputs": [],
   "source": [
    "from selenium import webdriver\n",
    "from selenium.webdriver.common.by import By\n",
    "from selenium.webdriver.common.keys import Keys\n",
    "from selenium.webdriver.support.ui import WebDriverWait\n",
    "from selenium.webdriver.support import expected_conditions as EC\n",
    "from selenium.webdriver.chrome.options import Options\n",
    "import random\n",
    "import time\n",
    "\n",
    "import logging\n",
    "logging.basicConfig(level=logging.INFO)"
   ]
  },
  {
   "cell_type": "code",
   "execution_count": 72,
   "id": "5bd8e0c6",
   "metadata": {},
   "outputs": [],
   "source": [
    "# Optional：Configure headless browsers（Do not display the window）\n",
    "chrome_options = Options()\n",
    "chrome_options.add_argument(\"--headless\")"
   ]
  },
  {
   "cell_type": "code",
   "execution_count": 73,
   "id": "7b9830fd",
   "metadata": {},
   "outputs": [],
   "source": [
    "driver = webdriver.Chrome()\n",
    "driver.implicitly_wait(15)\n",
    "\n",
    "session_link = \"http://localhost:8000/join/timokipo\"\n",
    "driver.get(session_link)"
   ]
  },
  {
   "cell_type": "code",
   "execution_count": 74,
   "id": "405617bf",
   "metadata": {},
   "outputs": [],
   "source": [
    "# Consent page\n",
    "def next_page():\n",
    "    next_button = driver.find_element(By.TAG_NAME, 'button')\n",
    "    next_button.click()\n",
    "\n",
    "time.sleep(random.randint(5, 10))\n",
    "next_page()"
   ]
  },
  {
   "cell_type": "code",
   "execution_count": 75,
   "id": "82b58735",
   "metadata": {},
   "outputs": [],
   "source": [
    "# Welcome page\n",
    "prolificID = driver.find_element(By.ID, 'id_prolificID')\n",
    "prolificID.send_keys('123456781234567812345678')\n",
    "\n",
    "# Avatar\n",
    "avatars = driver.find_elements(By.CLASS_NAME, 'persist')\n",
    "avatars[random.randint(0, len(avatars)-1)].click()\n",
    "\n",
    "# nickname\n",
    "nickname = driver.find_element(By.ID, 'id_nickname')\n",
    "nickname.send_keys('test_bot')\n",
    "\n",
    "time.sleep(random.randint(5, 10))\n",
    "next_page()"
   ]
  },
  {
   "cell_type": "code",
   "execution_count": 76,
   "id": "cef457c9",
   "metadata": {},
   "outputs": [],
   "source": [
    "# Priming page\n",
    "text_box = driver.find_element(By.ID, \"id_primingText\")\n",
    "text_box.send_keys(\"This is a test. \" * 10)\n",
    "time.sleep(random.randint(10, 15))\n",
    "next_page()"
   ]
  },
  {
   "cell_type": "code",
   "execution_count": 77,
   "id": "25d96a47",
   "metadata": {},
   "outputs": [],
   "source": [
    "# Instruction page ONE\n",
    "time.sleep(random.randint(5, 10))\n",
    "next_page()\n",
    "\n",
    "# Waiting page\n",
    "driver.implicitly_wait(15)"
   ]
  },
  {
   "cell_type": "code",
   "execution_count": 78,
   "id": "cff0a2d5",
   "metadata": {},
   "outputs": [
    {
     "ename": "NoSuchElementException",
     "evalue": "Message: no such element: Unable to locate element: {\"method\":\"css selector\",\"selector\":\"[id=\"chat_input\"]\"}\n  (Session info: chrome=138.0.7204.169); For documentation on this error, please visit: https://www.selenium.dev/documentation/webdriver/troubleshooting/errors#nosuchelementexception\nStacktrace:\n\tGetHandleVerifier [0x0x7ff66cdfe415+77285]\n\tGetHandleVerifier [0x0x7ff66cdfe470+77376]\n\t(No symbol) [0x0x7ff66cbc9a6a]\n\t(No symbol) [0x0x7ff66cc20406]\n\t(No symbol) [0x0x7ff66cc206bc]\n\t(No symbol) [0x0x7ff66cc73ac7]\n\t(No symbol) [0x0x7ff66cc4864f]\n\t(No symbol) [0x0x7ff66cc7087f]\n\t(No symbol) [0x0x7ff66cc483e3]\n\t(No symbol) [0x0x7ff66cc11521]\n\t(No symbol) [0x0x7ff66cc122b3]\n\tGetHandleVerifier [0x0x7ff66d0e1efd+3107021]\n\tGetHandleVerifier [0x0x7ff66d0dc29d+3083373]\n\tGetHandleVerifier [0x0x7ff66d0fbedd+3213485]\n\tGetHandleVerifier [0x0x7ff66ce1884e+184862]\n\tGetHandleVerifier [0x0x7ff66ce2055f+216879]\n\tGetHandleVerifier [0x0x7ff66ce07084+113236]\n\tGetHandleVerifier [0x0x7ff66ce07239+113673]\n\tGetHandleVerifier [0x0x7ff66cdee298+11368]\n\tBaseThreadInitThunk [0x0x7ffe5e7c259d+29]\n\tRtlUserThreadStart [0x0x7ffe5fbaaf78+40]\n",
     "output_type": "error",
     "traceback": [
      "\u001b[1;31m---------------------------------------------------------------------------\u001b[0m",
      "\u001b[1;31mNoSuchElementException\u001b[0m                    Traceback (most recent call last)",
      "Cell \u001b[1;32mIn[78], line 2\u001b[0m\n\u001b[0;32m      1\u001b[0m \u001b[38;5;66;03m# Chat page 1\u001b[39;00m\n\u001b[1;32m----> 2\u001b[0m chat_input \u001b[38;5;241m=\u001b[39m \u001b[43mdriver\u001b[49m\u001b[38;5;241;43m.\u001b[39;49m\u001b[43mfind_element\u001b[49m\u001b[43m(\u001b[49m\u001b[43mBy\u001b[49m\u001b[38;5;241;43m.\u001b[39;49m\u001b[43mID\u001b[49m\u001b[43m,\u001b[49m\u001b[43m \u001b[49m\u001b[38;5;124;43m'\u001b[39;49m\u001b[38;5;124;43mchat_input\u001b[39;49m\u001b[38;5;124;43m'\u001b[39;49m\u001b[43m)\u001b[49m\n\u001b[0;32m      4\u001b[0m \u001b[38;5;28;01mfor\u001b[39;00m i \u001b[38;5;129;01min\u001b[39;00m \u001b[38;5;28mrange\u001b[39m(\u001b[38;5;241m5\u001b[39m):\n\u001b[0;32m      5\u001b[0m     chat_input\u001b[38;5;241m.\u001b[39msend_keys(\u001b[38;5;124mf\u001b[39m\u001b[38;5;124m\"\u001b[39m\u001b[38;5;124mThis is message \u001b[39m\u001b[38;5;132;01m{\u001b[39;00mi\u001b[38;5;132;01m}\u001b[39;00m\u001b[38;5;124m.\u001b[39m\u001b[38;5;124m\"\u001b[39m)\n",
      "File \u001b[1;32md:\\ProgramData\\Anaconda3\\envs\\env_loadtest\\lib\\site-packages\\selenium\\webdriver\\remote\\webdriver.py:922\u001b[0m, in \u001b[0;36mWebDriver.find_element\u001b[1;34m(self, by, value)\u001b[0m\n\u001b[0;32m    919\u001b[0m         \u001b[38;5;28;01mraise\u001b[39;00m NoSuchElementException(\u001b[38;5;124mf\u001b[39m\u001b[38;5;124m\"\u001b[39m\u001b[38;5;124mCannot locate relative element with: \u001b[39m\u001b[38;5;132;01m{\u001b[39;00mby\u001b[38;5;241m.\u001b[39mroot\u001b[38;5;132;01m}\u001b[39;00m\u001b[38;5;124m\"\u001b[39m)\n\u001b[0;32m    920\u001b[0m     \u001b[38;5;28;01mreturn\u001b[39;00m elements[\u001b[38;5;241m0\u001b[39m]\n\u001b[1;32m--> 922\u001b[0m \u001b[38;5;28;01mreturn\u001b[39;00m \u001b[38;5;28;43mself\u001b[39;49m\u001b[38;5;241;43m.\u001b[39;49m\u001b[43mexecute\u001b[49m\u001b[43m(\u001b[49m\u001b[43mCommand\u001b[49m\u001b[38;5;241;43m.\u001b[39;49m\u001b[43mFIND_ELEMENT\u001b[49m\u001b[43m,\u001b[49m\u001b[43m \u001b[49m\u001b[43m{\u001b[49m\u001b[38;5;124;43m\"\u001b[39;49m\u001b[38;5;124;43musing\u001b[39;49m\u001b[38;5;124;43m\"\u001b[39;49m\u001b[43m:\u001b[49m\u001b[43m \u001b[49m\u001b[43mby\u001b[49m\u001b[43m,\u001b[49m\u001b[43m \u001b[49m\u001b[38;5;124;43m\"\u001b[39;49m\u001b[38;5;124;43mvalue\u001b[39;49m\u001b[38;5;124;43m\"\u001b[39;49m\u001b[43m:\u001b[49m\u001b[43m \u001b[49m\u001b[43mvalue\u001b[49m\u001b[43m}\u001b[49m\u001b[43m)\u001b[49m[\u001b[38;5;124m\"\u001b[39m\u001b[38;5;124mvalue\u001b[39m\u001b[38;5;124m\"\u001b[39m]\n",
      "File \u001b[1;32md:\\ProgramData\\Anaconda3\\envs\\env_loadtest\\lib\\site-packages\\selenium\\webdriver\\remote\\webdriver.py:454\u001b[0m, in \u001b[0;36mWebDriver.execute\u001b[1;34m(self, driver_command, params)\u001b[0m\n\u001b[0;32m    451\u001b[0m response \u001b[38;5;241m=\u001b[39m cast(RemoteConnection, \u001b[38;5;28mself\u001b[39m\u001b[38;5;241m.\u001b[39mcommand_executor)\u001b[38;5;241m.\u001b[39mexecute(driver_command, params)\n\u001b[0;32m    453\u001b[0m \u001b[38;5;28;01mif\u001b[39;00m response:\n\u001b[1;32m--> 454\u001b[0m     \u001b[38;5;28;43mself\u001b[39;49m\u001b[38;5;241;43m.\u001b[39;49m\u001b[43merror_handler\u001b[49m\u001b[38;5;241;43m.\u001b[39;49m\u001b[43mcheck_response\u001b[49m\u001b[43m(\u001b[49m\u001b[43mresponse\u001b[49m\u001b[43m)\u001b[49m\n\u001b[0;32m    455\u001b[0m     response[\u001b[38;5;124m\"\u001b[39m\u001b[38;5;124mvalue\u001b[39m\u001b[38;5;124m\"\u001b[39m] \u001b[38;5;241m=\u001b[39m \u001b[38;5;28mself\u001b[39m\u001b[38;5;241m.\u001b[39m_unwrap_value(response\u001b[38;5;241m.\u001b[39mget(\u001b[38;5;124m\"\u001b[39m\u001b[38;5;124mvalue\u001b[39m\u001b[38;5;124m\"\u001b[39m, \u001b[38;5;28;01mNone\u001b[39;00m))\n\u001b[0;32m    456\u001b[0m     \u001b[38;5;28;01mreturn\u001b[39;00m response\n",
      "File \u001b[1;32md:\\ProgramData\\Anaconda3\\envs\\env_loadtest\\lib\\site-packages\\selenium\\webdriver\\remote\\errorhandler.py:232\u001b[0m, in \u001b[0;36mErrorHandler.check_response\u001b[1;34m(self, response)\u001b[0m\n\u001b[0;32m    230\u001b[0m         alert_text \u001b[38;5;241m=\u001b[39m value[\u001b[38;5;124m\"\u001b[39m\u001b[38;5;124malert\u001b[39m\u001b[38;5;124m\"\u001b[39m]\u001b[38;5;241m.\u001b[39mget(\u001b[38;5;124m\"\u001b[39m\u001b[38;5;124mtext\u001b[39m\u001b[38;5;124m\"\u001b[39m)\n\u001b[0;32m    231\u001b[0m     \u001b[38;5;28;01mraise\u001b[39;00m exception_class(message, screen, stacktrace, alert_text)  \u001b[38;5;66;03m# type: ignore[call-arg]  # mypy is not smart enough here\u001b[39;00m\n\u001b[1;32m--> 232\u001b[0m \u001b[38;5;28;01mraise\u001b[39;00m exception_class(message, screen, stacktrace)\n",
      "\u001b[1;31mNoSuchElementException\u001b[0m: Message: no such element: Unable to locate element: {\"method\":\"css selector\",\"selector\":\"[id=\"chat_input\"]\"}\n  (Session info: chrome=138.0.7204.169); For documentation on this error, please visit: https://www.selenium.dev/documentation/webdriver/troubleshooting/errors#nosuchelementexception\nStacktrace:\n\tGetHandleVerifier [0x0x7ff66cdfe415+77285]\n\tGetHandleVerifier [0x0x7ff66cdfe470+77376]\n\t(No symbol) [0x0x7ff66cbc9a6a]\n\t(No symbol) [0x0x7ff66cc20406]\n\t(No symbol) [0x0x7ff66cc206bc]\n\t(No symbol) [0x0x7ff66cc73ac7]\n\t(No symbol) [0x0x7ff66cc4864f]\n\t(No symbol) [0x0x7ff66cc7087f]\n\t(No symbol) [0x0x7ff66cc483e3]\n\t(No symbol) [0x0x7ff66cc11521]\n\t(No symbol) [0x0x7ff66cc122b3]\n\tGetHandleVerifier [0x0x7ff66d0e1efd+3107021]\n\tGetHandleVerifier [0x0x7ff66d0dc29d+3083373]\n\tGetHandleVerifier [0x0x7ff66d0fbedd+3213485]\n\tGetHandleVerifier [0x0x7ff66ce1884e+184862]\n\tGetHandleVerifier [0x0x7ff66ce2055f+216879]\n\tGetHandleVerifier [0x0x7ff66ce07084+113236]\n\tGetHandleVerifier [0x0x7ff66ce07239+113673]\n\tGetHandleVerifier [0x0x7ff66cdee298+11368]\n\tBaseThreadInitThunk [0x0x7ffe5e7c259d+29]\n\tRtlUserThreadStart [0x0x7ffe5fbaaf78+40]\n"
     ]
    }
   ],
   "source": [
    "# Chat page 1\n",
    "chat_input = driver.find_element(By.ID, 'chat_input')\n",
    "\n",
    "for i in range(5):\n",
    "    chat_input.send_keys(f\"This is message {i}.\")\n",
    "    chat_input.send_keys(Keys.RETURN)  # send the message\n",
    "    time.sleep(random.randint(5, 10))\n",
    "\n",
    "# Click next button\n",
    "for i in range(3):\n",
    "    try:\n",
    "        driver.find_element(By.ID, 'nextButton').click()\n",
    "        time.sleep(2)\n",
    "    except:\n",
    "        pass"
   ]
  },
  {
   "cell_type": "code",
   "execution_count": null,
   "id": "4893134c",
   "metadata": {},
   "outputs": [],
   "source": [
    "# Instruction page TWO\n",
    "time.sleep(random.randint(5, 10))\n",
    "next_page()\n",
    "\n",
    "# Waiting page\n",
    "driver.implicitly_wait(15)"
   ]
  },
  {
   "cell_type": "code",
   "execution_count": null,
   "id": "29ca8c20",
   "metadata": {},
   "outputs": [],
   "source": [
    "# Chat page 2\n",
    "chat_input = driver.find_element(By.ID, 'chat_input')\n",
    "\n",
    "for i in range(5):\n",
    "    chat_input.send_keys(f\"This is message {i}.\")\n",
    "    chat_input.send_keys(Keys.RETURN)  # send the message\n",
    "    time.sleep(random.randint(5, 10))\n",
    "\n",
    "# Click next button\n",
    "for i in range(3):\n",
    "    try:\n",
    "        driver.find_element(By.ID, 'nextButton').click()\n",
    "        time.sleep(2)\n",
    "    except:\n",
    "        pass"
   ]
  },
  {
   "cell_type": "code",
   "execution_count": null,
   "id": "2c3b03c5",
   "metadata": {},
   "outputs": [],
   "source": [
    "# Survey prompt page\n",
    "time.sleep(3)\n",
    "next_page()"
   ]
  },
  {
   "cell_type": "code",
   "execution_count": null,
   "id": "c991cf3d",
   "metadata": {},
   "outputs": [
    {
     "ename": "WebDriverException",
     "evalue": "Message: unknown error: unhandled inspector error: {\"code\":-32000,\"message\":\"Node with given id does not belong to the document\"}\n  (Session info: chrome=138.0.7204.169)\nStacktrace:\n\tGetHandleVerifier [0x0x7ff66cdfe415+77285]\n\tGetHandleVerifier [0x0x7ff66cdfe470+77376]\n\t(No symbol) [0x0x7ff66cbc9a6a]\n\t(No symbol) [0x0x7ff66cbb6700]\n\t(No symbol) [0x0x7ff66cbb4e19]\n\t(No symbol) [0x0x7ff66cbb56cf]\n\t(No symbol) [0x0x7ff66cbdd5f1]\n\t(No symbol) [0x0x7ff66cbe02aa]\n\t(No symbol) [0x0x7ff66cbde9a3]\n\t(No symbol) [0x0x7ff66cbd2181]\n\t(No symbol) [0x0x7ff66cbd002f]\n\t(No symbol) [0x0x7ff66cbd44cc]\n\t(No symbol) [0x0x7ff66cbd459f]\n\t(No symbol) [0x0x7ff66cc225ed]\n\t(No symbol) [0x0x7ff66cc215c9]\n\t(No symbol) [0x0x7ff66cc13458]\n\t(No symbol) [0x0x7ff66cc4860a]\n\t(No symbol) [0x0x7ff66cc12d06]\n\t(No symbol) [0x0x7ff66cc48820]\n\t(No symbol) [0x0x7ff66cc7087f]\n\t(No symbol) [0x0x7ff66cc483e3]\n\t(No symbol) [0x0x7ff66cc11521]\n\t(No symbol) [0x0x7ff66cc122b3]\n\tGetHandleVerifier [0x0x7ff66d0e1efd+3107021]\n\tGetHandleVerifier [0x0x7ff66d0dc29d+3083373]\n\tGetHandleVerifier [0x0x7ff66d0fbedd+3213485]\n\tGetHandleVerifier [0x0x7ff66ce1884e+184862]\n\tGetHandleVerifier [0x0x7ff66ce2055f+216879]\n\tGetHandleVerifier [0x0x7ff66ce07084+113236]\n\tGetHandleVerifier [0x0x7ff66ce07239+113673]\n\tGetHandleVerifier [0x0x7ff66cdee298+11368]\n\tBaseThreadInitThunk [0x0x7ffe5e7c259d+29]\n\tRtlUserThreadStart [0x0x7ffe5fbaaf78+40]\n",
     "output_type": "error",
     "traceback": [
      "\u001b[1;31m---------------------------------------------------------------------------\u001b[0m",
      "\u001b[1;31mWebDriverException\u001b[0m                        Traceback (most recent call last)",
      "Cell \u001b[1;32mIn[54], line 7\u001b[0m\n\u001b[0;32m      5\u001b[0m     degree \u001b[38;5;241m=\u001b[39m random\u001b[38;5;241m.\u001b[39mrandint(\u001b[38;5;241m0\u001b[39m, \u001b[38;5;241m6\u001b[39m)\n\u001b[0;32m      6\u001b[0m     id_name \u001b[38;5;241m=\u001b[39m \u001b[38;5;124mf\u001b[39m\u001b[38;5;124m\"\u001b[39m\u001b[38;5;132;01m{\u001b[39;00m\u001b[38;5;28mid\u001b[39m\u001b[38;5;132;01m}\u001b[39;00m\u001b[38;5;124m_\u001b[39m\u001b[38;5;132;01m{\u001b[39;00mi\u001b[38;5;241m+\u001b[39m\u001b[38;5;241m1\u001b[39m\u001b[38;5;132;01m}\u001b[39;00m\u001b[38;5;124m-\u001b[39m\u001b[38;5;132;01m{\u001b[39;00mdegree\u001b[38;5;132;01m}\u001b[39;00m\u001b[38;5;124m\"\u001b[39m\n\u001b[1;32m----> 7\u001b[0m     \u001b[43mdriver\u001b[49m\u001b[38;5;241;43m.\u001b[39;49m\u001b[43mfind_element\u001b[49m\u001b[43m(\u001b[49m\u001b[43mBy\u001b[49m\u001b[38;5;241;43m.\u001b[39;49m\u001b[43mID\u001b[49m\u001b[43m,\u001b[49m\u001b[43m \u001b[49m\u001b[43mid_name\u001b[49m\u001b[43m)\u001b[49m\u001b[38;5;241;43m.\u001b[39;49m\u001b[43mclick\u001b[49m\u001b[43m(\u001b[49m\u001b[43m)\u001b[49m\n\u001b[0;32m      8\u001b[0m     time\u001b[38;5;241m.\u001b[39msleep(\u001b[38;5;241m3\u001b[39m)\n\u001b[0;32m      9\u001b[0m next_page()\n",
      "File \u001b[1;32md:\\ProgramData\\Anaconda3\\envs\\env_loadtest\\lib\\site-packages\\selenium\\webdriver\\remote\\webelement.py:120\u001b[0m, in \u001b[0;36mWebElement.click\u001b[1;34m(self)\u001b[0m\n\u001b[0;32m    112\u001b[0m \u001b[38;5;28;01mdef\u001b[39;00m\u001b[38;5;250m \u001b[39m\u001b[38;5;21mclick\u001b[39m(\u001b[38;5;28mself\u001b[39m) \u001b[38;5;241m-\u001b[39m\u001b[38;5;241m>\u001b[39m \u001b[38;5;28;01mNone\u001b[39;00m:\n\u001b[0;32m    113\u001b[0m \u001b[38;5;250m    \u001b[39m\u001b[38;5;124;03m\"\"\"Clicks the element.\u001b[39;00m\n\u001b[0;32m    114\u001b[0m \n\u001b[0;32m    115\u001b[0m \u001b[38;5;124;03m    Example:\u001b[39;00m\n\u001b[1;32m   (...)\u001b[0m\n\u001b[0;32m    118\u001b[0m \u001b[38;5;124;03m    >>> element.click()\u001b[39;00m\n\u001b[0;32m    119\u001b[0m \u001b[38;5;124;03m    \"\"\"\u001b[39;00m\n\u001b[1;32m--> 120\u001b[0m     \u001b[38;5;28;43mself\u001b[39;49m\u001b[38;5;241;43m.\u001b[39;49m\u001b[43m_execute\u001b[49m\u001b[43m(\u001b[49m\u001b[43mCommand\u001b[49m\u001b[38;5;241;43m.\u001b[39;49m\u001b[43mCLICK_ELEMENT\u001b[49m\u001b[43m)\u001b[49m\n",
      "File \u001b[1;32md:\\ProgramData\\Anaconda3\\envs\\env_loadtest\\lib\\site-packages\\selenium\\webdriver\\remote\\webelement.py:573\u001b[0m, in \u001b[0;36mWebElement._execute\u001b[1;34m(self, command, params)\u001b[0m\n\u001b[0;32m    571\u001b[0m     params \u001b[38;5;241m=\u001b[39m {}\n\u001b[0;32m    572\u001b[0m params[\u001b[38;5;124m\"\u001b[39m\u001b[38;5;124mid\u001b[39m\u001b[38;5;124m\"\u001b[39m] \u001b[38;5;241m=\u001b[39m \u001b[38;5;28mself\u001b[39m\u001b[38;5;241m.\u001b[39m_id\n\u001b[1;32m--> 573\u001b[0m \u001b[38;5;28;01mreturn\u001b[39;00m \u001b[38;5;28;43mself\u001b[39;49m\u001b[38;5;241;43m.\u001b[39;49m\u001b[43m_parent\u001b[49m\u001b[38;5;241;43m.\u001b[39;49m\u001b[43mexecute\u001b[49m\u001b[43m(\u001b[49m\u001b[43mcommand\u001b[49m\u001b[43m,\u001b[49m\u001b[43m \u001b[49m\u001b[43mparams\u001b[49m\u001b[43m)\u001b[49m\n",
      "File \u001b[1;32md:\\ProgramData\\Anaconda3\\envs\\env_loadtest\\lib\\site-packages\\selenium\\webdriver\\remote\\webdriver.py:454\u001b[0m, in \u001b[0;36mWebDriver.execute\u001b[1;34m(self, driver_command, params)\u001b[0m\n\u001b[0;32m    451\u001b[0m response \u001b[38;5;241m=\u001b[39m cast(RemoteConnection, \u001b[38;5;28mself\u001b[39m\u001b[38;5;241m.\u001b[39mcommand_executor)\u001b[38;5;241m.\u001b[39mexecute(driver_command, params)\n\u001b[0;32m    453\u001b[0m \u001b[38;5;28;01mif\u001b[39;00m response:\n\u001b[1;32m--> 454\u001b[0m     \u001b[38;5;28;43mself\u001b[39;49m\u001b[38;5;241;43m.\u001b[39;49m\u001b[43merror_handler\u001b[49m\u001b[38;5;241;43m.\u001b[39;49m\u001b[43mcheck_response\u001b[49m\u001b[43m(\u001b[49m\u001b[43mresponse\u001b[49m\u001b[43m)\u001b[49m\n\u001b[0;32m    455\u001b[0m     response[\u001b[38;5;124m\"\u001b[39m\u001b[38;5;124mvalue\u001b[39m\u001b[38;5;124m\"\u001b[39m] \u001b[38;5;241m=\u001b[39m \u001b[38;5;28mself\u001b[39m\u001b[38;5;241m.\u001b[39m_unwrap_value(response\u001b[38;5;241m.\u001b[39mget(\u001b[38;5;124m\"\u001b[39m\u001b[38;5;124mvalue\u001b[39m\u001b[38;5;124m\"\u001b[39m, \u001b[38;5;28;01mNone\u001b[39;00m))\n\u001b[0;32m    456\u001b[0m     \u001b[38;5;28;01mreturn\u001b[39;00m response\n",
      "File \u001b[1;32md:\\ProgramData\\Anaconda3\\envs\\env_loadtest\\lib\\site-packages\\selenium\\webdriver\\remote\\errorhandler.py:232\u001b[0m, in \u001b[0;36mErrorHandler.check_response\u001b[1;34m(self, response)\u001b[0m\n\u001b[0;32m    230\u001b[0m         alert_text \u001b[38;5;241m=\u001b[39m value[\u001b[38;5;124m\"\u001b[39m\u001b[38;5;124malert\u001b[39m\u001b[38;5;124m\"\u001b[39m]\u001b[38;5;241m.\u001b[39mget(\u001b[38;5;124m\"\u001b[39m\u001b[38;5;124mtext\u001b[39m\u001b[38;5;124m\"\u001b[39m)\n\u001b[0;32m    231\u001b[0m     \u001b[38;5;28;01mraise\u001b[39;00m exception_class(message, screen, stacktrace, alert_text)  \u001b[38;5;66;03m# type: ignore[call-arg]  # mypy is not smart enough here\u001b[39;00m\n\u001b[1;32m--> 232\u001b[0m \u001b[38;5;28;01mraise\u001b[39;00m exception_class(message, screen, stacktrace)\n",
      "\u001b[1;31mWebDriverException\u001b[0m: Message: unknown error: unhandled inspector error: {\"code\":-32000,\"message\":\"Node with given id does not belong to the document\"}\n  (Session info: chrome=138.0.7204.169)\nStacktrace:\n\tGetHandleVerifier [0x0x7ff66cdfe415+77285]\n\tGetHandleVerifier [0x0x7ff66cdfe470+77376]\n\t(No symbol) [0x0x7ff66cbc9a6a]\n\t(No symbol) [0x0x7ff66cbb6700]\n\t(No symbol) [0x0x7ff66cbb4e19]\n\t(No symbol) [0x0x7ff66cbb56cf]\n\t(No symbol) [0x0x7ff66cbdd5f1]\n\t(No symbol) [0x0x7ff66cbe02aa]\n\t(No symbol) [0x0x7ff66cbde9a3]\n\t(No symbol) [0x0x7ff66cbd2181]\n\t(No symbol) [0x0x7ff66cbd002f]\n\t(No symbol) [0x0x7ff66cbd44cc]\n\t(No symbol) [0x0x7ff66cbd459f]\n\t(No symbol) [0x0x7ff66cc225ed]\n\t(No symbol) [0x0x7ff66cc215c9]\n\t(No symbol) [0x0x7ff66cc13458]\n\t(No symbol) [0x0x7ff66cc4860a]\n\t(No symbol) [0x0x7ff66cc12d06]\n\t(No symbol) [0x0x7ff66cc48820]\n\t(No symbol) [0x0x7ff66cc7087f]\n\t(No symbol) [0x0x7ff66cc483e3]\n\t(No symbol) [0x0x7ff66cc11521]\n\t(No symbol) [0x0x7ff66cc122b3]\n\tGetHandleVerifier [0x0x7ff66d0e1efd+3107021]\n\tGetHandleVerifier [0x0x7ff66d0dc29d+3083373]\n\tGetHandleVerifier [0x0x7ff66d0fbedd+3213485]\n\tGetHandleVerifier [0x0x7ff66ce1884e+184862]\n\tGetHandleVerifier [0x0x7ff66ce2055f+216879]\n\tGetHandleVerifier [0x0x7ff66ce07084+113236]\n\tGetHandleVerifier [0x0x7ff66ce07239+113673]\n\tGetHandleVerifier [0x0x7ff66cdee298+11368]\n\tBaseThreadInitThunk [0x0x7ffe5e7c259d+29]\n\tRtlUserThreadStart [0x0x7ffe5fbaaf78+40]\n"
     ]
    }
   ],
   "source": [
    "# Survey page 1\n",
    "id_list = [\"id_senA\", \"id_feeH\", \"id_CE\"]\n",
    "for id in id_list:\n",
    "    for i in range(4):\n",
    "        degree = random.randint(0, 6)\n",
    "        id_name = f\"{id}_{i+1}-{degree}\"\n",
    "        driver.find_element(By.ID, id_name).click()\n",
    "        time.sleep(3)\n",
    "\n",
    "next_page()"
   ]
  },
  {
   "cell_type": "code",
   "execution_count": null,
   "id": "27180962",
   "metadata": {},
   "outputs": [],
   "source": [
    "# Survey page 2\n",
    "id_list = [\"id_AIU\", \"id_AIL\", \"id_partner_label\"]\n",
    "\n",
    "for id in id_list:\n",
    "    if id == \"id_AIU\":\n",
    "        id_name = f\"{id}-0\"\n",
    "        driver.find_element(By.ID, id_name).click()\n",
    "        time.sleep(3)\n",
    "    elif id == \"id_AIL\":\n",
    "        for i in range(4):\n",
    "            degree = random.randint(0, 6)\n",
    "            id_name = f\"{id}_{i+1}-{degree}\"\n",
    "            driver.find_element(By.ID, id_name).click()\n",
    "            time.sleep(3)\n",
    "    else:\n",
    "        id_name = f\"{id}-2\"  # \"I don't know\"\n",
    "        driver.find_element(By.ID, id_name).click()\n",
    "        time.sleep(3)\n",
    "\n",
    "next_page()"
   ]
  },
  {
   "cell_type": "code",
   "execution_count": null,
   "id": "8c33e428",
   "metadata": {},
   "outputs": [],
   "source": [
    "# Survey page 3: Demographics\n",
    "id_list = [\"id_age\", \"id_gender\", \"id_education\", \"id_race\", \"id_partisanship\", \"id_rlg\"]\n",
    "\n",
    "driver.find_element(By.ID, \"id_age\").send_keys(random.randint(18, 100))\n",
    "time.sleep(3)\n",
    "\n",
    "driver.find_element(By.ID, f\"id_gender-3\").click()\n",
    "time.sleep(3)\n",
    "\n",
    "driver.find_element(By.ID, f\"id_education-9\").click()\n",
    "time.sleep(3)\n",
    "\n",
    "driver.find_element(By.ID, f\"id_race-6\").click()\n",
    "time.sleep(3)\n",
    "\n",
    "driver.find_element(By.ID, f\"id_partisanship-3\").click()\n",
    "time.sleep(3)\n",
    "\n",
    "for i in range(4):\n",
    "    degree = random.randint(0, 6)\n",
    "    driver.find_element(By.ID, f\"id_rlg_{i+1}-{degree}\").click()\n",
    "    time.sleep(3)\n",
    "\n",
    "next_page()"
   ]
  },
  {
   "cell_type": "code",
   "execution_count": null,
   "id": "52bb82c3",
   "metadata": {},
   "outputs": [],
   "source": [
    "# close the browser\n",
    "driver.quit()"
   ]
  }
 ],
 "metadata": {
  "kernelspec": {
   "display_name": "env_loadtest",
   "language": "python",
   "name": "python3"
  },
  "language_info": {
   "codemirror_mode": {
    "name": "ipython",
    "version": 3
   },
   "file_extension": ".py",
   "mimetype": "text/x-python",
   "name": "python",
   "nbconvert_exporter": "python",
   "pygments_lexer": "ipython3",
   "version": "3.10.18"
  }
 },
 "nbformat": 4,
 "nbformat_minor": 5
}
