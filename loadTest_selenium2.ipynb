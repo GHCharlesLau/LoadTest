{
 "cells": [
  {
   "cell_type": "markdown",
   "id": "abbff83d",
   "metadata": {},
   "source": [
    "# Performing load test with selenium"
   ]
  },
  {
   "cell_type": "code",
   "execution_count": 1,
   "id": "1c7c672e",
   "metadata": {},
   "outputs": [],
   "source": [
    "from selenium import webdriver\n",
    "from selenium.webdriver.common.by import By\n",
    "from selenium.webdriver.common.keys import Keys\n",
    "from selenium.webdriver.support.ui import WebDriverWait\n",
    "from selenium.webdriver.support import expected_conditions as EC\n",
    "import random\n",
    "import time\n",
    "\n",
    "import logging\n",
    "logging.basicConfig(level=logging.INFO)"
   ]
  },
  {
   "cell_type": "code",
   "execution_count": 2,
   "id": "7b9830fd",
   "metadata": {},
   "outputs": [],
   "source": [
    "driver = webdriver.Chrome()\n",
    "\n",
    "session_link = \"http://localhost:8000/join/mazediti\"\n",
    "driver.get(session_link)"
   ]
  },
  {
   "cell_type": "code",
   "execution_count": 3,
   "id": "405617bf",
   "metadata": {},
   "outputs": [],
   "source": [
    "# Consent page\n",
    "def next_page():\n",
    "    next_button = driver.find_element(By.TAG_NAME, 'button')\n",
    "    next_button.click()\n",
    "\n",
    "time.sleep(random.randint(5, 10))\n",
    "next_page()"
   ]
  },
  {
   "cell_type": "code",
   "execution_count": 4,
   "id": "82b58735",
   "metadata": {},
   "outputs": [],
   "source": [
    "# Welcome page\n",
    "prolificID = driver.find_element(By.ID, 'id_prolificID')\n",
    "prolificID.send_keys('123456781234567812345678')\n",
    "\n",
    "# Avatar\n",
    "avatars = driver.find_elements(By.CLASS_NAME, 'persist')\n",
    "avatars[random.randint(0, len(avatars)-1)].click()\n",
    "\n",
    "# nickname\n",
    "nickname = driver.find_element(By.ID, 'id_nickname')\n",
    "nickname.send_keys('test_bot')\n",
    "\n",
    "time.sleep(random.randint(5, 10))\n",
    "next_page()"
   ]
  },
  {
   "cell_type": "code",
   "execution_count": 5,
   "id": "cef457c9",
   "metadata": {},
   "outputs": [],
   "source": [
    "# Priming page\n",
    "text_box = driver.find_element(By.ID, \"id_primingText\")\n",
    "text_box.send_keys(\"This is a test. \" * 10)\n",
    "time.sleep(random.randint(10, 15))\n",
    "next_page()"
   ]
  },
  {
   "cell_type": "code",
   "execution_count": 6,
   "id": "25d96a47",
   "metadata": {},
   "outputs": [],
   "source": [
    "# Instruction page ONE\n",
    "time.sleep(random.randint(5, 10))\n",
    "next_page()\n",
    "\n",
    "# Waiting page\n",
    "driver.implicitly_wait(10)"
   ]
  },
  {
   "cell_type": "code",
   "execution_count": null,
   "id": "cff0a2d5",
   "metadata": {},
   "outputs": [],
   "source": [
    "# Chat page 1\n",
    "chat_input = driver.find_element(By.ID, 'chat_input')\n",
    "\n",
    "for i in range(5):\n",
    "    chat_input.send_keys(f\"This is message {i}.\")\n",
    "    chat_input.send_keys(Keys.RETURN)  # send the message\n",
    "    time.sleep(random.randint(5, 10))\n",
    "\n",
    "# Click next button\n",
    "for i in range(3):\n",
    "    try:\n",
    "        driver.find_element(By.ID, 'nextButton').click()\n",
    "        time.sleep(2)\n",
    "    except:\n",
    "        pass"
   ]
  },
  {
   "cell_type": "code",
   "execution_count": 9,
   "id": "3e2ad437",
   "metadata": {},
   "outputs": [],
   "source": [
    "# Instruction page TWO\n",
    "time.sleep(random.randint(5, 10))\n",
    "next_page()\n",
    "\n",
    "# Waiting page\n",
    "driver.implicitly_wait(10)"
   ]
  },
  {
   "cell_type": "code",
   "execution_count": null,
   "id": "e028f1de",
   "metadata": {},
   "outputs": [],
   "source": [
    "# Chat page 2\n",
    "chat_input = driver.find_element(By.ID, 'chat_input')\n",
    "\n",
    "for i in range(5):\n",
    "    chat_input.send_keys(f\"This is message {i}.\")\n",
    "    chat_input.send_keys(Keys.RETURN)  # send the message\n",
    "    time.sleep(random.randint(5, 10))\n",
    "\n",
    "# Click next button\n",
    "while True:\n",
    "    try:\n",
    "        driver.find_element(By.ID, 'nextButton').click()\n",
    "        time.sleep(2)\n",
    "    except:\n",
    "        pass"
   ]
  },
  {
   "cell_type": "code",
   "execution_count": 11,
   "id": "52bb82c3",
   "metadata": {},
   "outputs": [],
   "source": [
    "# close the browser\n",
    "driver.quit()"
   ]
  }
 ],
 "metadata": {
  "kernelspec": {
   "display_name": "env_loadtest",
   "language": "python",
   "name": "python3"
  },
  "language_info": {
   "codemirror_mode": {
    "name": "ipython",
    "version": 3
   },
   "file_extension": ".py",
   "mimetype": "text/x-python",
   "name": "python",
   "nbconvert_exporter": "python",
   "pygments_lexer": "ipython3",
   "version": "3.10.18"
  }
 },
 "nbformat": 4,
 "nbformat_minor": 5
}
